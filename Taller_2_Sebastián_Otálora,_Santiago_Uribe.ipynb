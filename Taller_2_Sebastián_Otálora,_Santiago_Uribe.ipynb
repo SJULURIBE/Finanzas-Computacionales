{
  "nbformat": 4,
  "nbformat_minor": 0,
  "metadata": {
    "colab": {
      "provenance": []
    },
    "kernelspec": {
      "name": "python3",
      "display_name": "Python 3"
    },
    "language_info": {
      "name": "python"
    }
  },
  "cells": [
    {
      "cell_type": "markdown",
      "source": [
        "Taller 2\n",
        "\n",
        "Santiago Uribe \n",
        "Sebastián Otálora"
      ],
      "metadata": {
        "id": "IFJCrRTwnmcG"
      }
    },
    {
      "cell_type": "code",
      "execution_count": null,
      "metadata": {
        "id": "Eo3SOolSDwAl"
      },
      "outputs": [],
      "source": [
        "import numpy as np\n",
        "import pandas as pd\n",
        "import matplotlib.pyplot as plt\n",
        "from scipy.optimize import minimize\n",
        "from scipy.optimize import linprog\n",
        "import cvxpy as cp"
      ]
    },
    {
      "cell_type": "markdown",
      "source": [
        "La empresa XYZ produce dos productos: A y B. La ganancia por unidad de A es de $3\n",
        "dólares y de B es de $5 dólares. Para su producción dispone de 500 unidades de materia\n",
        "prima, 1000 unidades de mano de obra y 2000 dólares de capital, de los cuales se\n",
        "necesitan para producir una unidad de:\n",
        "i) A: una unidad de materia prima, dos unidades de mano de obra y una unidad de capital.\n",
        "ii) B: una unidad de materia prima, cuatro unidades de mano de obra y dos unidades de\n",
        "capital.\n",
        "Además, se necesita producir al menos 100 unidades de A y 150 unidades de B para\n",
        "satisfacer la demanda del mercado.\n",
        "Encuentre la asignación óptima de A y B que maximizan las ganancias de la empresa.\n",
        "Para ello, formule un problema de LP utilizando Scipy."
      ],
      "metadata": {
        "id": "YSOmdWMLEWCQ"
      }
    },
    {
      "cell_type": "code",
      "source": [
        "c = np.array([-3, -5])\n",
        "A = np.array([[1, 1], [2, 4], [1, 2]])\n",
        "b = np.array([500, 1000, 2000])\n",
        "bounds = ((100, None), (150, None))\n",
        "\n",
        "res = linprog(c=c, A_ub=A, b_ub=b, bounds=bounds)\n",
        "\n",
        "print('Ganancias Total: $' + str(-res.fun))\n",
        "print('Asignación optima de de A que maximizan la ganancia de la empresa: ' + str(res.x[0]))\n",
        "print('Asignación optima de b que maximiza ganancia de la empresa: ' + str(res.x[1]))"
      ],
      "metadata": {
        "colab": {
          "base_uri": "https://localhost:8080/"
        },
        "id": "icfDtb8PD5jZ",
        "outputId": "55794dc5-aec4-4498-879f-aa89d62782a2"
      },
      "execution_count": null,
      "outputs": [
        {
          "output_type": "stream",
          "name": "stdout",
          "text": [
            "Ganancias Total: $1350.0\n",
            "Asignación optima de de A que maximizan la ganancia de la empresa: 200.0\n",
            "Asignación optima de b que maximiza ganancia de la empresa: 150.0\n"
          ]
        }
      ]
    },
    {
      "cell_type": "markdown",
      "source": [
        "2) Usted desea invertir la suma de $100 millones en cuatro fondos que tienen diferentes\n",
        "retornos esperados (E(R)), así como diferentes ponderaciones en acciones de alto valor,\n",
        "gran tamaño y alta liquidez, como muestra la siguiente tabla:\n",
        "\n",
        "Estilo Fondo 1 Fondo 2 Fondo 3 Fondo 4\n",
        "Valor 50% 30% 25% 60%\n",
        "Tamaño 30% 10% 40% 20%\n",
        "Liquidez 20% 60% 35% 20%\n",
        "E(R) 10% 15% 16% 8%\n",
        "\n",
        "La asignación anterior debe contener al menos un 35% de acciones de alto valor, un 30%\n",
        "en tamaño y un 15% de acciones de liquidez. Encuentre una asignación factible con el\n",
        "retorno esperado más alto, bajo el supuesto de que solo se le permite mantener posiciones\n",
        "largas en los fondos.\n",
        "Formule y resuelva el problema de LP considerando las siguientes restricciones:\n",
        "\n",
        "0.5 x1 + 0.3 x2 + 0.25 x3 + 0.6 x4 ≥ 0.35 (valor)\n",
        "0.3 x1 + 0.1 x2 + 0.4 x3 + 0.2 x4 ≥ 0.30 (tamaño)\n",
        "0.2 x1 + 0.6 x2 + 0.35 x3 + 0.2 x4 ≥ 0.15 (liquidez)\n",
        "\n",
        "x1 + x2 + x3 + x4 = $100\n",
        "x1, x2, x3, x4 ≥ 0\n",
        "\n",
        "Nota: resuelva el problema anterior usando las librerías de Scipy y CVXPY de Python."
      ],
      "metadata": {
        "id": "PQUh4Fb5FPuD"
      }
    },
    {
      "cell_type": "code",
      "source": [
        "# Resultado con libreria Scipy\n",
        "función_objetivo = np.array([0.10 , 0.15 ,0.16 ,0.08])\n",
        "Solución1 = np.array([[0.5,0.3,0.25,0.6],[0.3,0.1,0.4,0.2],[0.2,0.6,0.35,0.2]])\n",
        "Solución2= np.array([0.35,0.30,0.15])\n",
        "Solución3 = np.array([[1, 1, 1, 1]])\n",
        "Solución4= np.array([1])\n",
        "Solución_general= linprog(-función_objetivo, A_ub=-Solución1, b_ub=-Solución2,  A_eq=Solución3, b_eq=Solución4,method='simplex')\n",
        "pd.DataFrame(Solución_general.x).round(4).T*100"
      ],
      "metadata": {
        "colab": {
          "base_uri": "https://localhost:8080/",
          "height": 115
        },
        "id": "3JQbBnFsFaIz",
        "outputId": "aa52a779-8d9f-428a-ffaa-6c20e1c1b8ec"
      },
      "execution_count": null,
      "outputs": [
        {
          "output_type": "stream",
          "name": "stderr",
          "text": [
            "<ipython-input-86-1ec9fd045cb8>:7: DeprecationWarning: `method='simplex'` is deprecated and will be removed in SciPy 1.11.0. Please use one of the HiGHS solvers (e.g. `method='highs'`) in new code.\n",
            "  Solución_general= linprog(-función_objetivo, A_ub=-Solución1, b_ub=-Solución2,  A_eq=Solución3, b_eq=Solución4,method='simplex')\n"
          ]
        },
        {
          "output_type": "execute_result",
          "data": {
            "text/plain": [
              "     0      1      2      3\n",
              "0  0.0  15.79  57.89  26.32"
            ],
            "text/html": [
              "\n",
              "  <div id=\"df-20dfebf7-5e39-449c-9dbe-eae38f85de9b\">\n",
              "    <div class=\"colab-df-container\">\n",
              "      <div>\n",
              "<style scoped>\n",
              "    .dataframe tbody tr th:only-of-type {\n",
              "        vertical-align: middle;\n",
              "    }\n",
              "\n",
              "    .dataframe tbody tr th {\n",
              "        vertical-align: top;\n",
              "    }\n",
              "\n",
              "    .dataframe thead th {\n",
              "        text-align: right;\n",
              "    }\n",
              "</style>\n",
              "<table border=\"1\" class=\"dataframe\">\n",
              "  <thead>\n",
              "    <tr style=\"text-align: right;\">\n",
              "      <th></th>\n",
              "      <th>0</th>\n",
              "      <th>1</th>\n",
              "      <th>2</th>\n",
              "      <th>3</th>\n",
              "    </tr>\n",
              "  </thead>\n",
              "  <tbody>\n",
              "    <tr>\n",
              "      <th>0</th>\n",
              "      <td>0.0</td>\n",
              "      <td>15.79</td>\n",
              "      <td>57.89</td>\n",
              "      <td>26.32</td>\n",
              "    </tr>\n",
              "  </tbody>\n",
              "</table>\n",
              "</div>\n",
              "      <button class=\"colab-df-convert\" onclick=\"convertToInteractive('df-20dfebf7-5e39-449c-9dbe-eae38f85de9b')\"\n",
              "              title=\"Convert this dataframe to an interactive table.\"\n",
              "              style=\"display:none;\">\n",
              "        \n",
              "  <svg xmlns=\"http://www.w3.org/2000/svg\" height=\"24px\"viewBox=\"0 0 24 24\"\n",
              "       width=\"24px\">\n",
              "    <path d=\"M0 0h24v24H0V0z\" fill=\"none\"/>\n",
              "    <path d=\"M18.56 5.44l.94 2.06.94-2.06 2.06-.94-2.06-.94-.94-2.06-.94 2.06-2.06.94zm-11 1L8.5 8.5l.94-2.06 2.06-.94-2.06-.94L8.5 2.5l-.94 2.06-2.06.94zm10 10l.94 2.06.94-2.06 2.06-.94-2.06-.94-.94-2.06-.94 2.06-2.06.94z\"/><path d=\"M17.41 7.96l-1.37-1.37c-.4-.4-.92-.59-1.43-.59-.52 0-1.04.2-1.43.59L10.3 9.45l-7.72 7.72c-.78.78-.78 2.05 0 2.83L4 21.41c.39.39.9.59 1.41.59.51 0 1.02-.2 1.41-.59l7.78-7.78 2.81-2.81c.8-.78.8-2.07 0-2.86zM5.41 20L4 18.59l7.72-7.72 1.47 1.35L5.41 20z\"/>\n",
              "  </svg>\n",
              "      </button>\n",
              "      \n",
              "  <style>\n",
              "    .colab-df-container {\n",
              "      display:flex;\n",
              "      flex-wrap:wrap;\n",
              "      gap: 12px;\n",
              "    }\n",
              "\n",
              "    .colab-df-convert {\n",
              "      background-color: #E8F0FE;\n",
              "      border: none;\n",
              "      border-radius: 50%;\n",
              "      cursor: pointer;\n",
              "      display: none;\n",
              "      fill: #1967D2;\n",
              "      height: 32px;\n",
              "      padding: 0 0 0 0;\n",
              "      width: 32px;\n",
              "    }\n",
              "\n",
              "    .colab-df-convert:hover {\n",
              "      background-color: #E2EBFA;\n",
              "      box-shadow: 0px 1px 2px rgba(60, 64, 67, 0.3), 0px 1px 3px 1px rgba(60, 64, 67, 0.15);\n",
              "      fill: #174EA6;\n",
              "    }\n",
              "\n",
              "    [theme=dark] .colab-df-convert {\n",
              "      background-color: #3B4455;\n",
              "      fill: #D2E3FC;\n",
              "    }\n",
              "\n",
              "    [theme=dark] .colab-df-convert:hover {\n",
              "      background-color: #434B5C;\n",
              "      box-shadow: 0px 1px 3px 1px rgba(0, 0, 0, 0.15);\n",
              "      filter: drop-shadow(0px 1px 2px rgba(0, 0, 0, 0.3));\n",
              "      fill: #FFFFFF;\n",
              "    }\n",
              "  </style>\n",
              "\n",
              "      <script>\n",
              "        const buttonEl =\n",
              "          document.querySelector('#df-20dfebf7-5e39-449c-9dbe-eae38f85de9b button.colab-df-convert');\n",
              "        buttonEl.style.display =\n",
              "          google.colab.kernel.accessAllowed ? 'block' : 'none';\n",
              "\n",
              "        async function convertToInteractive(key) {\n",
              "          const element = document.querySelector('#df-20dfebf7-5e39-449c-9dbe-eae38f85de9b');\n",
              "          const dataTable =\n",
              "            await google.colab.kernel.invokeFunction('convertToInteractive',\n",
              "                                                     [key], {});\n",
              "          if (!dataTable) return;\n",
              "\n",
              "          const docLinkHtml = 'Like what you see? Visit the ' +\n",
              "            '<a target=\"_blank\" href=https://colab.research.google.com/notebooks/data_table.ipynb>data table notebook</a>'\n",
              "            + ' to learn more about interactive tables.';\n",
              "          element.innerHTML = '';\n",
              "          dataTable['output_type'] = 'display_data';\n",
              "          await google.colab.output.renderOutput(dataTable, element);\n",
              "          const docLink = document.createElement('div');\n",
              "          docLink.innerHTML = docLinkHtml;\n",
              "          element.appendChild(docLink);\n",
              "        }\n",
              "      </script>\n",
              "    </div>\n",
              "  </div>\n",
              "  "
            ]
          },
          "metadata": {},
          "execution_count": 86
        }
      ]
    },
    {
      "cell_type": "code",
      "source": [
        "máximov= -Respuesta.fun\n",
        "máximov*100"
      ],
      "metadata": {
        "colab": {
          "base_uri": "https://localhost:8080/"
        },
        "id": "dhZleuQoF9h0",
        "outputId": "5ee8a346-664b-4f81-fc8e-e9ce321ba9c8"
      },
      "execution_count": null,
      "outputs": [
        {
          "output_type": "execute_result",
          "data": {
            "text/plain": [
              "-0.0"
            ]
          },
          "metadata": {},
          "execution_count": 87
        }
      ]
    },
    {
      "cell_type": "code",
      "source": [
        "# resultado con libreria cvxpy\n",
        "n = 4\n",
        "x = cp.Variable(n)\n",
        "obj= cp.Minimize(-fun_objt.T@x)\n",
        "restrix= [ Solución1 @ x >= Solución2, cp.sum(x)==1, x>= 0]\n",
        "prob= cp.Problem(obj, restrix)\n",
        "prob.solve()\n",
        "Solución= x.value\n",
        "print(round(pd.DataFrame(Solución).T,4))\n"
      ],
      "metadata": {
        "colab": {
          "base_uri": "https://localhost:8080/"
        },
        "id": "kBv8HF2cGNO5",
        "outputId": "e148fcc1-923c-4dda-928f-a0219007a35d"
      },
      "execution_count": null,
      "outputs": [
        {
          "output_type": "stream",
          "name": "stdout",
          "text": [
            "     0       1       2       3\n",
            "0  0.0  0.1579  0.5789  0.2632\n"
          ]
        }
      ]
    },
    {
      "cell_type": "markdown",
      "source": [
        "3) La empresa XYZ se enfrente al siguiente problema de manejo de efectivo. Las cifras\n",
        "están expresadas en millones ($).\n",
        "\n",
        "1 2 3 4 5 6\n",
        "Mes Ene Feb Mar Abr May Jun\n",
        "FC neto -150 -100 200 -200 50 300\n",
        "Además, se sabe que la empresa cuenta con las siguientes fuentes de recursos:\n",
        "\n",
        "• Una línea de crédito de hasta $100 a una tasa de interés del 1% mensual.\n",
        "• Puede emitir papel comercial a 90 días con un interés total del 2% por un período\n",
        "de 3 meses.\n",
        "• Todos los meses se pueden invertir los fondos sobrantes a una tasa de interés del\n",
        "0,3% mensual. Por ejemplo, la empresa podría hacer un depósito bancario que le\n",
        "reconoce esa tasa.\n",
        "Sobre este problema, la empresa desea saber si: ¿usar la línea de crédito en algunos de\n",
        "los meses le representa un alto costo? si es así ¿cuándo debería usarla? ¿cuánto cuesta?\n",
        "¿qué pagos de intereses tendrá que hacer entre enero y junio? etc... Para responder a\n",
        "estos interrogantes, la empresa puede formular y resolver un problema de LP. Para la\n",
        "formulación del problema tener en cuenta lo siguiente:\n",
        "Variables:\n",
        "xj\n",
        ": monto dispuesto a pedir en la línea de crédito en el mes j, para j = 1,2,3,4,5.\n",
        "yj\n",
        ": monto emitido en el papel comercial en el mes j, para j = 1,2,3.\n",
        "zj\n",
        ": saldo de fondos (FC) en el mes j, para j = 1,2,3,4,5,6.\n",
        "Objetivo: Maximizar el saldo de los fondos (FC) en el mes 6 (Jun):\n",
        "\n",
        "máx z6\n",
        "\n",
        "Restricciones: Restricciones de los saldos en cada mes y límites en xj\n",
        ", yj y zj\n",
        ".\n",
        "\n",
        "x1 + y1 − z1 = 150\n",
        "x2 + y2 −1.01 x1 + 1.003 z1 − z2 = 100\n",
        "x3 + y3 −1.01 x2 + 1.003 z2 − z3 = −200\n",
        "x4 − 1.02 y1 −1.01 x3 + 1.003 z3 − z4 = 200\n",
        "x5 − 1.02 y2 −1.01 x4 + 1.003 z4 − z5 = −50\n",
        "−1.02 y3 −1.01 x5 + 1.003 z5 − z6 = −300\n",
        "\n",
        "xj ≤ 100 para j = 1,2,3,4,5\n",
        "xj ≥ 0 para j = 1,2,3,4,5\n",
        "yj ≥ 0 para j = 1,2,3.\n",
        "zj ≥ 0 para j = 1,2,3,4,5"
      ],
      "metadata": {
        "id": "N-clCXASGwUi"
      }
    },
    {
      "cell_type": "code",
      "source": [
        "a = cp.Variable(5, nonneg=True)  \n",
        "b = cp.Variable((3,1), nonneg=True) \n",
        "c = cp.Variable(6, nonneg=True)  \n",
        "\n",
        "\n",
        "restricción = []\n",
        "restricción.append(a <= 100)  # xj <= 100 para j = 1,2,3,4,5\n",
        "restricción.append(a >= 0)  \n",
        "restricción.append(b >= 0)  \n",
        "restricción.append(c >= 0)  \n",
        "restricción.append(a[0] + b[0] - c[0] == 150)\n",
        "restricción.append(a[1] + b[1] - 1.01*a[0] + 1.003*c[0] - c[1] == 100)\n",
        "restricción.append(a[2] + b[2] - 1.01*a[1] + 1.003*c[1] - c[2] == -200)\n",
        "restricción.append(a[3] - 1.02*b[0] - 1.01*a[2] + 1.003*c[2] - c[3] == 200)\n",
        "restricción.append(a[4] - 1.02*b[1] - 1.01*a[3] + 1.003*c[3] - c[4] == -50)\n",
        "restricción.append(-1.02*b[2] - 1.01*a[4] + 1.003*c[4] - c[5] == -300)\n",
        "\n",
        "objetivo = cp.Maximize(c[5])  \n",
        "\n",
        "problema = cp.Problem(objetivo, restricción)\n",
        "problema.solve()\n",
        "\n"
      ],
      "metadata": {
        "colab": {
          "base_uri": "https://localhost:8080/"
        },
        "id": "SNC-kq52GzlE",
        "outputId": "1524f90c-8af6-4be3-c558-41a1ff116c9f"
      },
      "execution_count": null,
      "outputs": [
        {
          "output_type": "execute_result",
          "data": {
            "text/plain": [
              "92.49694913918181"
            ]
          },
          "metadata": {},
          "execution_count": 181
        }
      ]
    },
    {
      "cell_type": "markdown",
      "source": [],
      "metadata": {
        "id": "rAeN8LICnaqk"
      }
    },
    {
      "cell_type": "markdown",
      "source": [
        "4) La empresa XYZ desea encontrar el saldo óptimo que debe mantener en su cuenta\n",
        "bancaria en un horizonte de un mes buscando maximizar su rentabilidad total. Se sabe\n",
        "que la empresa espera recibir entradas de efectivo de: $500 en la primera semana, $300\n",
        "en la segunda semana, $200 en la tercera semana y $400 en la cuarta semana. Todas las\n",
        "cifras se encuentran en millones de pesos. Además, la empresa debe realizar los\n",
        "siguientes pagos durante el mes: $350 en la primera semana, $400 en la segunda\n",
        "semana, $250 en la tercera semana y $200 en la cuarta semana y, para ello, debe\n",
        "mantener un saldo suficiente que respalde estas obligaciones.\n",
        "Para aprovechar la rentabilidad que ofrecen los saldos en cada momento, la empresa\n",
        "puede invertir sus recursos en un instrumento a corto plazo en el que recibe un\n",
        "rendimiento del 0,02% por día, pero al realizar esta operación debe incurrir en un costo de\n",
        "transacción del 0,01% del monto transferido.\n",
        "Formule un problema de LP utilizando Scipy que le permita maximizar la rentabilidad total\n",
        "de los saldos en su cuenta teniendo en cuenta las restricciones de sus flujos de efectivo."
      ],
      "metadata": {
        "id": "Jhq10s1CH_Kp"
      }
    },
    {
      "cell_type": "code",
      "source": [
        "Funcion_objetivo = np.array([0,0,0,0,0,0,0,1])\n",
        "R=(1+0.0001)**7 \n",
        "A= np.array([[1, 0, 0, 0,-1,0,0,0],\n",
        "             [0, 1, 0, 0,R,-1,0,0],\n",
        "             [0, 0, 1, 0,0,R,-1,0],\n",
        "             [0, 0, 0, 1,0,0,R,-1]])\n",
        "    \n",
        "B= np.array([[150,-100,-50,200]])\n",
        "Solución= linprog(-Funcion_objetivo, A_ub=A,  b_ub=-B, method=\"simplex\")\n",
        "Valor_optimo = pd.DataFrame(Solución.x).T\n",
        "Valor_optimo\n"
      ],
      "metadata": {
        "colab": {
          "base_uri": "https://localhost:8080/",
          "height": 115
        },
        "id": "oYF94bdqIBFT",
        "outputId": "4a1131b4-36ac-48a9-8518-696e56a06c58"
      },
      "execution_count": null,
      "outputs": [
        {
          "output_type": "stream",
          "name": "stderr",
          "text": [
            "<ipython-input-44-176304400e2d>:9: DeprecationWarning: `method='simplex'` is deprecated and will be removed in SciPy 1.11.0. Please use one of the HiGHS solvers (e.g. `method='highs'`) in new code.\n",
            "  Solución= linprog(-Funcion_objetivo, A_ub=A,  b_ub=-B, method=\"simplex\")\n"
          ]
        },
        {
          "output_type": "execute_result",
          "data": {
            "text/plain": [
              "     0    1    2    3      4          5         6           7\n",
              "0  0.0  0.0  0.0  0.0  150.0  50.105032  0.140116  200.140214"
            ],
            "text/html": [
              "\n",
              "  <div id=\"df-2265357b-7ae2-44c6-9ad2-539b960649e2\">\n",
              "    <div class=\"colab-df-container\">\n",
              "      <div>\n",
              "<style scoped>\n",
              "    .dataframe tbody tr th:only-of-type {\n",
              "        vertical-align: middle;\n",
              "    }\n",
              "\n",
              "    .dataframe tbody tr th {\n",
              "        vertical-align: top;\n",
              "    }\n",
              "\n",
              "    .dataframe thead th {\n",
              "        text-align: right;\n",
              "    }\n",
              "</style>\n",
              "<table border=\"1\" class=\"dataframe\">\n",
              "  <thead>\n",
              "    <tr style=\"text-align: right;\">\n",
              "      <th></th>\n",
              "      <th>0</th>\n",
              "      <th>1</th>\n",
              "      <th>2</th>\n",
              "      <th>3</th>\n",
              "      <th>4</th>\n",
              "      <th>5</th>\n",
              "      <th>6</th>\n",
              "      <th>7</th>\n",
              "    </tr>\n",
              "  </thead>\n",
              "  <tbody>\n",
              "    <tr>\n",
              "      <th>0</th>\n",
              "      <td>0.0</td>\n",
              "      <td>0.0</td>\n",
              "      <td>0.0</td>\n",
              "      <td>0.0</td>\n",
              "      <td>150.0</td>\n",
              "      <td>50.105032</td>\n",
              "      <td>0.140116</td>\n",
              "      <td>200.140214</td>\n",
              "    </tr>\n",
              "  </tbody>\n",
              "</table>\n",
              "</div>\n",
              "      <button class=\"colab-df-convert\" onclick=\"convertToInteractive('df-2265357b-7ae2-44c6-9ad2-539b960649e2')\"\n",
              "              title=\"Convert this dataframe to an interactive table.\"\n",
              "              style=\"display:none;\">\n",
              "        \n",
              "  <svg xmlns=\"http://www.w3.org/2000/svg\" height=\"24px\"viewBox=\"0 0 24 24\"\n",
              "       width=\"24px\">\n",
              "    <path d=\"M0 0h24v24H0V0z\" fill=\"none\"/>\n",
              "    <path d=\"M18.56 5.44l.94 2.06.94-2.06 2.06-.94-2.06-.94-.94-2.06-.94 2.06-2.06.94zm-11 1L8.5 8.5l.94-2.06 2.06-.94-2.06-.94L8.5 2.5l-.94 2.06-2.06.94zm10 10l.94 2.06.94-2.06 2.06-.94-2.06-.94-.94-2.06-.94 2.06-2.06.94z\"/><path d=\"M17.41 7.96l-1.37-1.37c-.4-.4-.92-.59-1.43-.59-.52 0-1.04.2-1.43.59L10.3 9.45l-7.72 7.72c-.78.78-.78 2.05 0 2.83L4 21.41c.39.39.9.59 1.41.59.51 0 1.02-.2 1.41-.59l7.78-7.78 2.81-2.81c.8-.78.8-2.07 0-2.86zM5.41 20L4 18.59l7.72-7.72 1.47 1.35L5.41 20z\"/>\n",
              "  </svg>\n",
              "      </button>\n",
              "      \n",
              "  <style>\n",
              "    .colab-df-container {\n",
              "      display:flex;\n",
              "      flex-wrap:wrap;\n",
              "      gap: 12px;\n",
              "    }\n",
              "\n",
              "    .colab-df-convert {\n",
              "      background-color: #E8F0FE;\n",
              "      border: none;\n",
              "      border-radius: 50%;\n",
              "      cursor: pointer;\n",
              "      display: none;\n",
              "      fill: #1967D2;\n",
              "      height: 32px;\n",
              "      padding: 0 0 0 0;\n",
              "      width: 32px;\n",
              "    }\n",
              "\n",
              "    .colab-df-convert:hover {\n",
              "      background-color: #E2EBFA;\n",
              "      box-shadow: 0px 1px 2px rgba(60, 64, 67, 0.3), 0px 1px 3px 1px rgba(60, 64, 67, 0.15);\n",
              "      fill: #174EA6;\n",
              "    }\n",
              "\n",
              "    [theme=dark] .colab-df-convert {\n",
              "      background-color: #3B4455;\n",
              "      fill: #D2E3FC;\n",
              "    }\n",
              "\n",
              "    [theme=dark] .colab-df-convert:hover {\n",
              "      background-color: #434B5C;\n",
              "      box-shadow: 0px 1px 3px 1px rgba(0, 0, 0, 0.15);\n",
              "      filter: drop-shadow(0px 1px 2px rgba(0, 0, 0, 0.3));\n",
              "      fill: #FFFFFF;\n",
              "    }\n",
              "  </style>\n",
              "\n",
              "      <script>\n",
              "        const buttonEl =\n",
              "          document.querySelector('#df-2265357b-7ae2-44c6-9ad2-539b960649e2 button.colab-df-convert');\n",
              "        buttonEl.style.display =\n",
              "          google.colab.kernel.accessAllowed ? 'block' : 'none';\n",
              "\n",
              "        async function convertToInteractive(key) {\n",
              "          const element = document.querySelector('#df-2265357b-7ae2-44c6-9ad2-539b960649e2');\n",
              "          const dataTable =\n",
              "            await google.colab.kernel.invokeFunction('convertToInteractive',\n",
              "                                                     [key], {});\n",
              "          if (!dataTable) return;\n",
              "\n",
              "          const docLinkHtml = 'Like what you see? Visit the ' +\n",
              "            '<a target=\"_blank\" href=https://colab.research.google.com/notebooks/data_table.ipynb>data table notebook</a>'\n",
              "            + ' to learn more about interactive tables.';\n",
              "          element.innerHTML = '';\n",
              "          dataTable['output_type'] = 'display_data';\n",
              "          await google.colab.output.renderOutput(dataTable, element);\n",
              "          const docLink = document.createElement('div');\n",
              "          docLink.innerHTML = docLinkHtml;\n",
              "          element.appendChild(docLink);\n",
              "        }\n",
              "      </script>\n",
              "    </div>\n",
              "  </div>\n",
              "  "
            ]
          },
          "metadata": {},
          "execution_count": 44
        }
      ]
    },
    {
      "cell_type": "markdown",
      "source": [
        "5) La empresa XYZ tiene que decidir como distribuye su presupuesto $10.000 millones y la\n",
        "mano de obra (horas de trabajo) en tres departamentos: ventas, marketing y producción\n",
        "buscando maximizar sus ganancias. Para ello, se sabe que cada departamento le\n",
        "proporciona a la empresa las siguientes ganancias: ventas: $5, marketing: 8$, y\n",
        "producción: $10. Esta asignación debe cumplir las siguientes restricciones:\n",
        "i. El total de horas de trabajo disponibles es de 1.000.\n",
        "ii. El departamento de ventas debe recibir al menos el 20% del presupuesto total.\n",
        "iii. El departamento de marketing debe recibir al menos el 30% del total de horas de\n",
        "trabajo disponibles.\n",
        "iv. El departamento de producción debe recibir al menos el 25% del total de horas de\n",
        "trabajo disponibles.\n",
        "Formule un problema de LP utilizando Scipy que le permita maximizar"
      ],
      "metadata": {
        "id": "dqjU3Kt6KVvL"
      }
    },
    {
      "cell_type": "code",
      "source": [
        "c = np.array([0, 0, 0, 5, 8, 10])\n",
        "\n",
        "A = np.array([[1,0,0,0,0,0],\n",
        "              [0,1,0,0,0,0],\n",
        "              [0,0,1,0,0,0],\n",
        "              [0,0,0,1,0,0],\n",
        "              [0,0,0,0,1,0],\n",
        "              [0,0,0,0,0,1]])\n",
        "\n",
        "b = np.array([450, 250, 300, 2000, 2000, 6000])\n",
        "\n",
        "\n",
        "A2 = np.array([[0,0,0,1,1,1],\n",
        "               [1,1,1,0,0,0]])\n",
        "\n",
        "b2 = np.array([10000,1000])\n",
        "\n",
        "solución = linprog(-c, A_ub=A2, b_ub=b2,  A_eq=A, b_eq=b,method='simplex')\n",
        "pd.DataFrame(sol.x)"
      ],
      "metadata": {
        "colab": {
          "base_uri": "https://localhost:8080/",
          "height": 272
        },
        "id": "whKEMoRJKZzl",
        "outputId": "db406808-36e1-4c54-ae10-2325c4fa817a"
      },
      "execution_count": null,
      "outputs": [
        {
          "output_type": "stream",
          "name": "stderr",
          "text": [
            "<ipython-input-73-6887378200ce>:18: DeprecationWarning: `method='simplex'` is deprecated and will be removed in SciPy 1.11.0. Please use one of the HiGHS solvers (e.g. `method='highs'`) in new code.\n",
            "  solución = linprog(-c, A_ub=A2, b_ub=b2,  A_eq=A, b_eq=b,method='simplex')\n"
          ]
        },
        {
          "output_type": "execute_result",
          "data": {
            "text/plain": [
              "        0\n",
              "0   450.0\n",
              "1   250.0\n",
              "2   300.0\n",
              "3  2000.0\n",
              "4  2000.0\n",
              "5  6000.0"
            ],
            "text/html": [
              "\n",
              "  <div id=\"df-ca1a238b-6cbf-4b6b-a028-9438682143df\">\n",
              "    <div class=\"colab-df-container\">\n",
              "      <div>\n",
              "<style scoped>\n",
              "    .dataframe tbody tr th:only-of-type {\n",
              "        vertical-align: middle;\n",
              "    }\n",
              "\n",
              "    .dataframe tbody tr th {\n",
              "        vertical-align: top;\n",
              "    }\n",
              "\n",
              "    .dataframe thead th {\n",
              "        text-align: right;\n",
              "    }\n",
              "</style>\n",
              "<table border=\"1\" class=\"dataframe\">\n",
              "  <thead>\n",
              "    <tr style=\"text-align: right;\">\n",
              "      <th></th>\n",
              "      <th>0</th>\n",
              "    </tr>\n",
              "  </thead>\n",
              "  <tbody>\n",
              "    <tr>\n",
              "      <th>0</th>\n",
              "      <td>450.0</td>\n",
              "    </tr>\n",
              "    <tr>\n",
              "      <th>1</th>\n",
              "      <td>250.0</td>\n",
              "    </tr>\n",
              "    <tr>\n",
              "      <th>2</th>\n",
              "      <td>300.0</td>\n",
              "    </tr>\n",
              "    <tr>\n",
              "      <th>3</th>\n",
              "      <td>2000.0</td>\n",
              "    </tr>\n",
              "    <tr>\n",
              "      <th>4</th>\n",
              "      <td>2000.0</td>\n",
              "    </tr>\n",
              "    <tr>\n",
              "      <th>5</th>\n",
              "      <td>6000.0</td>\n",
              "    </tr>\n",
              "  </tbody>\n",
              "</table>\n",
              "</div>\n",
              "      <button class=\"colab-df-convert\" onclick=\"convertToInteractive('df-ca1a238b-6cbf-4b6b-a028-9438682143df')\"\n",
              "              title=\"Convert this dataframe to an interactive table.\"\n",
              "              style=\"display:none;\">\n",
              "        \n",
              "  <svg xmlns=\"http://www.w3.org/2000/svg\" height=\"24px\"viewBox=\"0 0 24 24\"\n",
              "       width=\"24px\">\n",
              "    <path d=\"M0 0h24v24H0V0z\" fill=\"none\"/>\n",
              "    <path d=\"M18.56 5.44l.94 2.06.94-2.06 2.06-.94-2.06-.94-.94-2.06-.94 2.06-2.06.94zm-11 1L8.5 8.5l.94-2.06 2.06-.94-2.06-.94L8.5 2.5l-.94 2.06-2.06.94zm10 10l.94 2.06.94-2.06 2.06-.94-2.06-.94-.94-2.06-.94 2.06-2.06.94z\"/><path d=\"M17.41 7.96l-1.37-1.37c-.4-.4-.92-.59-1.43-.59-.52 0-1.04.2-1.43.59L10.3 9.45l-7.72 7.72c-.78.78-.78 2.05 0 2.83L4 21.41c.39.39.9.59 1.41.59.51 0 1.02-.2 1.41-.59l7.78-7.78 2.81-2.81c.8-.78.8-2.07 0-2.86zM5.41 20L4 18.59l7.72-7.72 1.47 1.35L5.41 20z\"/>\n",
              "  </svg>\n",
              "      </button>\n",
              "      \n",
              "  <style>\n",
              "    .colab-df-container {\n",
              "      display:flex;\n",
              "      flex-wrap:wrap;\n",
              "      gap: 12px;\n",
              "    }\n",
              "\n",
              "    .colab-df-convert {\n",
              "      background-color: #E8F0FE;\n",
              "      border: none;\n",
              "      border-radius: 50%;\n",
              "      cursor: pointer;\n",
              "      display: none;\n",
              "      fill: #1967D2;\n",
              "      height: 32px;\n",
              "      padding: 0 0 0 0;\n",
              "      width: 32px;\n",
              "    }\n",
              "\n",
              "    .colab-df-convert:hover {\n",
              "      background-color: #E2EBFA;\n",
              "      box-shadow: 0px 1px 2px rgba(60, 64, 67, 0.3), 0px 1px 3px 1px rgba(60, 64, 67, 0.15);\n",
              "      fill: #174EA6;\n",
              "    }\n",
              "\n",
              "    [theme=dark] .colab-df-convert {\n",
              "      background-color: #3B4455;\n",
              "      fill: #D2E3FC;\n",
              "    }\n",
              "\n",
              "    [theme=dark] .colab-df-convert:hover {\n",
              "      background-color: #434B5C;\n",
              "      box-shadow: 0px 1px 3px 1px rgba(0, 0, 0, 0.15);\n",
              "      filter: drop-shadow(0px 1px 2px rgba(0, 0, 0, 0.3));\n",
              "      fill: #FFFFFF;\n",
              "    }\n",
              "  </style>\n",
              "\n",
              "      <script>\n",
              "        const buttonEl =\n",
              "          document.querySelector('#df-ca1a238b-6cbf-4b6b-a028-9438682143df button.colab-df-convert');\n",
              "        buttonEl.style.display =\n",
              "          google.colab.kernel.accessAllowed ? 'block' : 'none';\n",
              "\n",
              "        async function convertToInteractive(key) {\n",
              "          const element = document.querySelector('#df-ca1a238b-6cbf-4b6b-a028-9438682143df');\n",
              "          const dataTable =\n",
              "            await google.colab.kernel.invokeFunction('convertToInteractive',\n",
              "                                                     [key], {});\n",
              "          if (!dataTable) return;\n",
              "\n",
              "          const docLinkHtml = 'Like what you see? Visit the ' +\n",
              "            '<a target=\"_blank\" href=https://colab.research.google.com/notebooks/data_table.ipynb>data table notebook</a>'\n",
              "            + ' to learn more about interactive tables.';\n",
              "          element.innerHTML = '';\n",
              "          dataTable['output_type'] = 'display_data';\n",
              "          await google.colab.output.renderOutput(dataTable, element);\n",
              "          const docLink = document.createElement('div');\n",
              "          docLink.innerHTML = docLinkHtml;\n",
              "          element.appendChild(docLink);\n",
              "        }\n",
              "      </script>\n",
              "    </div>\n",
              "  </div>\n",
              "  "
            ]
          },
          "metadata": {},
          "execution_count": 73
        }
      ]
    },
    {
      "cell_type": "markdown",
      "source": [
        "6) Considere una empresa con tres puntos potenciales para ubicar sus instalaciones (J =\n",
        "{1,2,3}) y cinco puntos de demanda que debe satisfacer (I = {1,2,3,4,5}). La apertura del\n",
        "punto j ∈ J tiene un costo fijo de funcionamiento fj\n",
        "\n",
        ", independientemente del volumen de\n",
        "ventas que maneje. Este volumen está limitado a una determinada cantidad máxima que\n",
        "puede manejarse anualmente (Mj\n",
        "\n",
        "). Además, hay un costo de transporte cij para ir desde el\n",
        "punto j para abastecer la demanda en el punto i. Las siguientes tablas muestran los datos\n",
        "de demanda en cada punto:\n",
        "\n",
        "Puntos 1 2 3 4 5\n",
        "Demanda 80 270 250 160 180\n",
        "\n",
        "Y los costos de transporte, de funcionamiento y cantidad máxima que puede mantener en\n",
        "cada\n",
        "\n",
        "Planta Costos en cada punto de demanda fj Mj\n",
        "\n",
        "1 2 3 4 5\n",
        "1 $4 $5 $6 $8 $10 $1.000 500\n",
        "2 $6 $4 $3 $5 $8 $1.000 500\n",
        "3 $9 $7 $4 $3 $4 $1.000 500\n",
        "\n",
        "Las columnas 1-5 muestran el costo de transporte desde cada punto instalado (planta) a\n",
        "cada demanda que debe satisfacer. Las columnas fj y Mj muestran los costos fijos y la\n",
        "capacidad máxima en cada ubicación. Encuentre la ubicación óptima para satisfacer las\n",
        "demandas de tal forma que se minimicen los costos.\n",
        "Formule un problema de optimización utilizando Scipy que le permita encontrar la\n",
        "estrategia optima de la empresa para reducir sus costos de funcionamiento y transporte."
      ],
      "metadata": {
        "id": "48EesvBOLhn9"
      }
    },
    {
      "cell_type": "code",
      "source": [
        "objetivo1= np.array([[4,5,6,8,10],\n",
        "                            [6,4,3,5,8],\n",
        "               [9,7,4,3,4]])\n",
        "objetivo2= np.array([1000,1000,1000])\n",
        "\n",
        "RES3= np.array([500,500,500])\n",
        "RES4= np.array([80,270,250,160,180])\n",
        "\n",
        "x = cp.Variable ((3,5), nonneg=True) \n",
        "y = cp.Variable (3,  boolean=True)\n",
        "objetivo = cp.Minimize((cp.sum(cp.multiply(obj,x))+(cp.sum(cp.multiply(objetivo2,y)))))\n",
        "restricción= [ cp.sum(x[0, : ]) <= RES3[0], cp.sum(x[2, : ]) <= RES3 [2], cp.sum(x[ :, 0])==RES4[0],\n",
        "                            cp. sum(x[ :,1])==RES4[1], cp.sum(x[ : ,2 ])==RES4[2], cp.sum(x[ : , 3])==RES4[3],\n",
        "                            cp.sum(x[ : ,4])==RES4[4],x[0, : ]==0]\n",
        "prob  = cp.Problem(objetivo, restricción)\n",
        "\n",
        "resultado =  prob.solve()\n",
        "\n",
        "x_valores = x.value\n",
        "x_solucion =pd.DataFrame(x.value)\n",
        "print(round(x_solucion,2))\n",
        "                                                                                              "
      ],
      "metadata": {
        "colab": {
          "base_uri": "https://localhost:8080/"
        },
        "id": "2Lg_GqzxLjcT",
        "outputId": "976c8693-a0d4-450b-d142-b084b695abae"
      },
      "execution_count": null,
      "outputs": [
        {
          "output_type": "stream",
          "name": "stdout",
          "text": [
            "      0      1      2      3      4\n",
            "0  -0.0   -0.0   -0.0   -0.0   -0.0\n",
            "1  80.0  270.0  250.0    0.0    0.0\n",
            "2  -0.0   -0.0   -0.0  160.0  180.0\n"
          ]
        }
      ]
    },
    {
      "cell_type": "code",
      "source": [
        "respuestas = pd.DataFrame(x . value )\n",
        "respuestas = respuestas. set_axis([ \"1\", \"2\",\"3\"], axis=0)\n",
        "respuestas = respuestas. set_axis([\"demanda1\", \"demanda2\",\"demanda3\",\"demanda4\",\"demanda5\"], axis=1)\n",
        "respuestas "
      ],
      "metadata": {
        "colab": {
          "base_uri": "https://localhost:8080/",
          "height": 143
        },
        "id": "cX53s1qn3IbK",
        "outputId": "1a4b0527-b5dd-4a7a-d8ac-21fc76c5524d"
      },
      "execution_count": null,
      "outputs": [
        {
          "output_type": "execute_result",
          "data": {
            "text/plain": [
              "   demanda1  demanda2  demanda3  demanda4  demanda5\n",
              "1      -0.0      -0.0      -0.0      -0.0      -0.0\n",
              "2      80.0     270.0     250.0       0.0       0.0\n",
              "3      -0.0      -0.0      -0.0     160.0     180.0"
            ],
            "text/html": [
              "\n",
              "  <div id=\"df-3f230cc7-ab3b-4574-8848-416507a8e9e7\">\n",
              "    <div class=\"colab-df-container\">\n",
              "      <div>\n",
              "<style scoped>\n",
              "    .dataframe tbody tr th:only-of-type {\n",
              "        vertical-align: middle;\n",
              "    }\n",
              "\n",
              "    .dataframe tbody tr th {\n",
              "        vertical-align: top;\n",
              "    }\n",
              "\n",
              "    .dataframe thead th {\n",
              "        text-align: right;\n",
              "    }\n",
              "</style>\n",
              "<table border=\"1\" class=\"dataframe\">\n",
              "  <thead>\n",
              "    <tr style=\"text-align: right;\">\n",
              "      <th></th>\n",
              "      <th>demanda1</th>\n",
              "      <th>demanda2</th>\n",
              "      <th>demanda3</th>\n",
              "      <th>demanda4</th>\n",
              "      <th>demanda5</th>\n",
              "    </tr>\n",
              "  </thead>\n",
              "  <tbody>\n",
              "    <tr>\n",
              "      <th>1</th>\n",
              "      <td>-0.0</td>\n",
              "      <td>-0.0</td>\n",
              "      <td>-0.0</td>\n",
              "      <td>-0.0</td>\n",
              "      <td>-0.0</td>\n",
              "    </tr>\n",
              "    <tr>\n",
              "      <th>2</th>\n",
              "      <td>80.0</td>\n",
              "      <td>270.0</td>\n",
              "      <td>250.0</td>\n",
              "      <td>0.0</td>\n",
              "      <td>0.0</td>\n",
              "    </tr>\n",
              "    <tr>\n",
              "      <th>3</th>\n",
              "      <td>-0.0</td>\n",
              "      <td>-0.0</td>\n",
              "      <td>-0.0</td>\n",
              "      <td>160.0</td>\n",
              "      <td>180.0</td>\n",
              "    </tr>\n",
              "  </tbody>\n",
              "</table>\n",
              "</div>\n",
              "      <button class=\"colab-df-convert\" onclick=\"convertToInteractive('df-3f230cc7-ab3b-4574-8848-416507a8e9e7')\"\n",
              "              title=\"Convert this dataframe to an interactive table.\"\n",
              "              style=\"display:none;\">\n",
              "        \n",
              "  <svg xmlns=\"http://www.w3.org/2000/svg\" height=\"24px\"viewBox=\"0 0 24 24\"\n",
              "       width=\"24px\">\n",
              "    <path d=\"M0 0h24v24H0V0z\" fill=\"none\"/>\n",
              "    <path d=\"M18.56 5.44l.94 2.06.94-2.06 2.06-.94-2.06-.94-.94-2.06-.94 2.06-2.06.94zm-11 1L8.5 8.5l.94-2.06 2.06-.94-2.06-.94L8.5 2.5l-.94 2.06-2.06.94zm10 10l.94 2.06.94-2.06 2.06-.94-2.06-.94-.94-2.06-.94 2.06-2.06.94z\"/><path d=\"M17.41 7.96l-1.37-1.37c-.4-.4-.92-.59-1.43-.59-.52 0-1.04.2-1.43.59L10.3 9.45l-7.72 7.72c-.78.78-.78 2.05 0 2.83L4 21.41c.39.39.9.59 1.41.59.51 0 1.02-.2 1.41-.59l7.78-7.78 2.81-2.81c.8-.78.8-2.07 0-2.86zM5.41 20L4 18.59l7.72-7.72 1.47 1.35L5.41 20z\"/>\n",
              "  </svg>\n",
              "      </button>\n",
              "      \n",
              "  <style>\n",
              "    .colab-df-container {\n",
              "      display:flex;\n",
              "      flex-wrap:wrap;\n",
              "      gap: 12px;\n",
              "    }\n",
              "\n",
              "    .colab-df-convert {\n",
              "      background-color: #E8F0FE;\n",
              "      border: none;\n",
              "      border-radius: 50%;\n",
              "      cursor: pointer;\n",
              "      display: none;\n",
              "      fill: #1967D2;\n",
              "      height: 32px;\n",
              "      padding: 0 0 0 0;\n",
              "      width: 32px;\n",
              "    }\n",
              "\n",
              "    .colab-df-convert:hover {\n",
              "      background-color: #E2EBFA;\n",
              "      box-shadow: 0px 1px 2px rgba(60, 64, 67, 0.3), 0px 1px 3px 1px rgba(60, 64, 67, 0.15);\n",
              "      fill: #174EA6;\n",
              "    }\n",
              "\n",
              "    [theme=dark] .colab-df-convert {\n",
              "      background-color: #3B4455;\n",
              "      fill: #D2E3FC;\n",
              "    }\n",
              "\n",
              "    [theme=dark] .colab-df-convert:hover {\n",
              "      background-color: #434B5C;\n",
              "      box-shadow: 0px 1px 3px 1px rgba(0, 0, 0, 0.15);\n",
              "      filter: drop-shadow(0px 1px 2px rgba(0, 0, 0, 0.3));\n",
              "      fill: #FFFFFF;\n",
              "    }\n",
              "  </style>\n",
              "\n",
              "      <script>\n",
              "        const buttonEl =\n",
              "          document.querySelector('#df-3f230cc7-ab3b-4574-8848-416507a8e9e7 button.colab-df-convert');\n",
              "        buttonEl.style.display =\n",
              "          google.colab.kernel.accessAllowed ? 'block' : 'none';\n",
              "\n",
              "        async function convertToInteractive(key) {\n",
              "          const element = document.querySelector('#df-3f230cc7-ab3b-4574-8848-416507a8e9e7');\n",
              "          const dataTable =\n",
              "            await google.colab.kernel.invokeFunction('convertToInteractive',\n",
              "                                                     [key], {});\n",
              "          if (!dataTable) return;\n",
              "\n",
              "          const docLinkHtml = 'Like what you see? Visit the ' +\n",
              "            '<a target=\"_blank\" href=https://colab.research.google.com/notebooks/data_table.ipynb>data table notebook</a>'\n",
              "            + ' to learn more about interactive tables.';\n",
              "          element.innerHTML = '';\n",
              "          dataTable['output_type'] = 'display_data';\n",
              "          await google.colab.output.renderOutput(dataTable, element);\n",
              "          const docLink = document.createElement('div');\n",
              "          docLink.innerHTML = docLinkHtml;\n",
              "          element.appendChild(docLink);\n",
              "        }\n",
              "      </script>\n",
              "    </div>\n",
              "  </div>\n",
              "  "
            ]
          },
          "metadata": {},
          "execution_count": 146
        }
      ]
    }
  ]
}